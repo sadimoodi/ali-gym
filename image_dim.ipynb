{
 "cells": [
  {
   "cell_type": "code",
   "execution_count": 1,
   "id": "21a280f5",
   "metadata": {},
   "outputs": [],
   "source": [
    "import os, imagesize, json, ray, time\n",
    "import pandas as pd\n",
    "from pathlib import Path"
   ]
  },
  {
   "cell_type": "code",
   "execution_count": 37,
   "id": "0a861f28",
   "metadata": {},
   "outputs": [],
   "source": [
    "path = 'C://Users//ali.khankan//Downloads//notebooks//Detectron//mydataset'"
   ]
  },
  {
   "cell_type": "code",
   "execution_count": 38,
   "id": "4d1f3bef",
   "metadata": {},
   "outputs": [
    {
     "data": {
      "text/plain": [
       "'C:\\\\Users\\\\ali.khankan\\\\Downloads\\\\notebooks\\\\Detectron\\\\mydataset\\\\small\\\\_annotations_train.json'"
      ]
     },
     "execution_count": 38,
     "metadata": {},
     "output_type": "execute_result"
    }
   ],
   "source": [
    "os.path.abspath (os.path.join(path, 'small', filename.name))"
   ]
  },
  {
   "cell_type": "code",
   "execution_count": 45,
   "id": "30cba82f",
   "metadata": {},
   "outputs": [
    {
     "name": "stdout",
     "output_type": "stream",
     "text": [
      "moved: 1005jpg_jpg.rf.44e6a4064e8bc87bbe83282a9846cbee.jpg\n",
      "moved: 101_jpg.rf.b267590adf45895a5a9c221f91e602f1.jpg\n",
      "moved: 103_jpg.rf.9d6b939a0a61de8bbcc46a4c6122019c.jpg\n",
      "moved: 108_jpg.rf.49d4541e9c9e232f3cba57183e694c1a.jpg\n",
      "moved: 115_jpg.rf.229d361c1aefc80918ae1529b78ed086.jpg\n",
      "moved: 127_jpg.rf.dd6dbe58a9bdc96082b24bfbabe68e82.jpg\n",
      "moved: 129_jpg.rf.7622cbd3c701abcbf169af87be593d17.jpg\n",
      "moved: 155_jpg.rf.f2c96b99f229eb6b8474fea03b6731fa.jpg\n",
      "moved: 166_jpg.rf.46bab2e7bbeb3c055c5780ad82007281.jpg\n",
      "moved: 191_jpg.rf.8fa7b92b0232c45919307d11733b2b82.jpg\n",
      "moved: 31_jpg.rf.8e96c02752c31a418c098e4ec60ecc3d.jpg\n",
      "moved: 35_jpg.rf.e52e93b1590b94e4497a75a6f262176d.jpg\n",
      "moved: 38_png.rf.8c2be1068218d6d387b31d37da2d4b9f.jpg\n",
      "moved: 71_jpg.rf.1e3a4eb854c666f7fe3e77eb6178704d.jpg\n",
      "moved: 71_png.rf.85246241ff61edc0be1172e5c7c8fcbe.jpg\n",
      "moved: 78_jpg.rf.2eccddd2e8012caa615e9d4002ffc1cd.jpg\n",
      "moved: 97_png.rf.0ddfdc5ee178ba468feb644cceb30ad2.jpg\n",
      "moved: abaya19_png.rf.ca2ba5238870524d4bc4987f6a46b9e8.jpg\n",
      "moved: abaya78_png.rf.191429137b3a0039eeb94b8b0064a501.jpg\n",
      "moved: abaya95_png.rf.b5f974c827f57f0aa120f2d6a931ec5c.jpg\n",
      "moved: african-muslim-praying-in-mosque-stock-photo_csp25942529_jpg.rf.ed3e4bd924ed44bd98ca3e04c3995554.jpg\n",
      "moved: c53c9bcd79b385ae73cf5724f253adcc--arab-swag-bin-bin_jpg.rf.32e9596156f1f549b539fd855db62342.jpg\n",
      "moved: download--12-_jpg.rf.cb7ca47bf3a15c1f33ee3a255189d8cc.jpg\n",
      "moved: download--3-_jpg.rf.518b6c8d5a8bd97cb4545568a714de4f.jpg\n",
      "moved: GettyImages-135222539-5b4cffb046e0fb0037ef607c_jpg.rf.056b053dfa2edb5c3ee3c6eedc4490dd.jpg\n",
      "moved: images--38-_jpg.rf.094f3aec7e9e05ca3732668327b6f25d.jpg\n",
      "moved: studio-shot-young-handsome-indian-260nw-2058558635_jpg.rf.dd759d881c85d4119d5cf8310fb2d478.jpg\n"
     ]
    }
   ],
   "source": [
    "images = {}\n",
    "for filename in os.scandir(os.path.join(path, 'test')):\n",
    "            width, height = imagesize.get(filename.path)\n",
    "            images[filename.name] = {'height': height, 'width': width}\n",
    "            if height < 500 and height > 0:\n",
    "                Path(filename.path).rename(os.path.abspath (os.path.join(path, 'small', filename.name)))\n",
    "                print (f'moved: {filename.name}')"
   ]
  },
  {
   "cell_type": "code",
   "execution_count": 34,
   "id": "892a14e3",
   "metadata": {},
   "outputs": [
    {
     "data": {
      "text/plain": [
       "WindowsPath('C:/Users/ali.khankan/Downloads/notebooks/Detectron/mydataset/small/_annotations_train.json')"
      ]
     },
     "execution_count": 34,
     "metadata": {},
     "output_type": "execute_result"
    }
   ],
   "source": [
    "Path('C:\\\\Users\\\\ali.khankan\\\\Downloads\\\\notebooks\\\\Detectron\\\\mydataset\\\\train\\\\_annotations_train.json').rename('C:\\\\Users\\\\ali.khankan\\\\Downloads\\\\notebooks\\\\Detectron\\\\mydataset\\\\small\\\\_annotations_train.json')"
   ]
  },
  {
   "cell_type": "code",
   "execution_count": 22,
   "id": "c7128627",
   "metadata": {},
   "outputs": [],
   "source": [
    "ray.shutdown()"
   ]
  },
  {
   "cell_type": "code",
   "execution_count": 19,
   "id": "56dbbeaf",
   "metadata": {},
   "outputs": [],
   "source": [
    "ray.init()\n",
    "\n",
    "@ray.remote\n",
    "class imagesizes:\n",
    "    def __init__(self):\n",
    "        self.images = {}\n",
    "        self.get_images_sizes()\n",
    "\n",
    "    def get_images_sizes(self):\n",
    "        df = pd.DataFrame()\n",
    "for filename in os.scandir(os.path.join(path, 'test')):\n",
    "            width, height = imagesize.get(filename.path)\n",
    "            self.images[filename.name] = {'height': height, 'width': width}\n",
    "            if height < 500 and height > 0:\n",
    "                Path(filename.path).rename(os.path.abspath (os.path.join(path, 'small', filename.name)))\n",
    "                print (f'moved: {filename.name}')\n",
    "\n",
    "    def get_images(self):\n",
    "        return self.images\n"
   ]
  },
  {
   "cell_type": "code",
   "execution_count": 20,
   "id": "2140ad27",
   "metadata": {},
   "outputs": [
    {
     "name": "stderr",
     "output_type": "stream",
     "text": [
      "\u001b[2m\u001b[36m(imagesizes\r",
      " pid=76620)\u001b[0m 2022-03-28 12:39:58,683\tERROR worker.py:450 -- Exception raised in creation task: The actor died because of an error raised in its creation task, \u001b[36mray::imagesizes.__init__()\u001b[39m (pid=76620, ip=127.0.0.1, repr=<__main__.imagesizes object at 0x0000017D6542EBB0>)\r\n",
      "\u001b[2m\u001b[36m(imagesizes\r",
      " pid=76620)\u001b[0m   File \"python\\ray\\_raylet.pyx\", line 665, in ray._raylet.execute_task\r\n",
      "\u001b[2m\u001b[36m(imagesizes\r",
      " pid=76620)\u001b[0m   File \"python\\ray\\_raylet.pyx\", line 669, in ray._raylet.execute_task\r\n",
      "\u001b[2m\u001b[36m(imagesizes\r",
      " pid=76620)\u001b[0m   File \"python\\ray\\_raylet.pyx\", line 616, in ray._raylet.execute_task.function_executor\r\n",
      "\u001b[2m\u001b[36m(imagesizes\r",
      " pid=76620)\u001b[0m   File \"C:\\ProgramData\\Anaconda3\\lib\\site-packages\\ray\\_private\\function_manager.py\", line 704, in actor_method_executor\r\n",
      "\u001b[2m\u001b[36m(imagesizes\r",
      " pid=76620)\u001b[0m     return method(__ray_actor, *args, **kwargs)\r\n",
      "\u001b[2m\u001b[36m(imagesizes\r",
      " pid=76620)\u001b[0m   File \"C:\\ProgramData\\Anaconda3\\lib\\site-packages\\ray\\util\\tracing\\tracing_helper.py\", line 462, in _resume_span\r\n",
      "\u001b[2m\u001b[36m(imagesizes\r",
      " pid=76620)\u001b[0m     return method(self, *_args, **_kwargs)\r\n",
      "\u001b[2m\u001b[36m(imagesizes\r",
      " pid=76620)\u001b[0m   File \"C:\\Users\\ali.khankan\\AppData\\Local\\Temp\\ipykernel_75592\\4039197177.py\", line 7, in __init__\r\n",
      "\u001b[2m\u001b[36m(imagesizes\r",
      " pid=76620)\u001b[0m   File \"C:\\ProgramData\\Anaconda3\\lib\\site-packages\\ray\\util\\tracing\\tracing_helper.py\", line 462, in _resume_span\r\n",
      "\u001b[2m\u001b[36m(imagesizes\r",
      " pid=76620)\u001b[0m     return method(self, *_args, **_kwargs)\r\n",
      "\u001b[2m\u001b[36m(imagesizes\r",
      " pid=76620)\u001b[0m   File \"C:\\Users\\ali.khankan\\AppData\\Local\\Temp\\ipykernel_75592\\4039197177.py\", line 15, in get_images_sizes\r\n",
      "\u001b[2m\u001b[36m(imagesizes\r",
      " pid=76620)\u001b[0m   File \"C:\\ProgramData\\Anaconda3\\lib\\pathlib.py\", line 1382, in rename\r\n",
      "\u001b[2m\u001b[36m(imagesizes\r",
      " pid=76620)\u001b[0m     self._accessor.rename(self, target)\r\n",
      "\u001b[2m\u001b[36m(imagesizes\r",
      " pid=76620)\u001b[0m FileNotFoundError: [WinError 3] The system cannot find the path specified: 'mydataset\\\\train\\\\smiling-handsome-young-muslim-africanamerican-260nw-2007429587_jpg.rf.4db44327ad5adaffd00bab09b752f1fb.jpg' -> 'mydataset\\\\train\\\\small\\\\smiling-handsome-young-muslim-africanamerican-260nw-2007429587_jpg.rf.4db44327ad5adaffd00bab09b752f1fb.jpg'\r\n"
     ]
    },
    {
     "ename": "RayActorError",
     "evalue": "The actor died because of an error raised in its creation task, \u001b[36mray::imagesizes.__init__()\u001b[39m (pid=76620, ip=127.0.0.1, repr=<__main__.imagesizes object at 0x0000017D6542EBB0>)\n  File \"python\\ray\\_raylet.pyx\", line 665, in ray._raylet.execute_task\n  File \"python\\ray\\_raylet.pyx\", line 669, in ray._raylet.execute_task\n  File \"python\\ray\\_raylet.pyx\", line 616, in ray._raylet.execute_task.function_executor\n  File \"C:\\ProgramData\\Anaconda3\\lib\\site-packages\\ray\\_private\\function_manager.py\", line 704, in actor_method_executor\n    return method(__ray_actor, *args, **kwargs)\n  File \"C:\\ProgramData\\Anaconda3\\lib\\site-packages\\ray\\util\\tracing\\tracing_helper.py\", line 462, in _resume_span\n    return method(self, *_args, **_kwargs)\n  File \"C:\\Users\\ali.khankan\\AppData\\Local\\Temp\\ipykernel_75592\\4039197177.py\", line 7, in __init__\n  File \"C:\\ProgramData\\Anaconda3\\lib\\site-packages\\ray\\util\\tracing\\tracing_helper.py\", line 462, in _resume_span\n    return method(self, *_args, **_kwargs)\n  File \"C:\\Users\\ali.khankan\\AppData\\Local\\Temp\\ipykernel_75592\\4039197177.py\", line 15, in get_images_sizes\n  File \"C:\\ProgramData\\Anaconda3\\lib\\pathlib.py\", line 1382, in rename\n    self._accessor.rename(self, target)\nFileNotFoundError: [WinError 3] The system cannot find the path specified: 'mydataset\\\\train\\\\smiling-handsome-young-muslim-africanamerican-260nw-2007429587_jpg.rf.4db44327ad5adaffd00bab09b752f1fb.jpg' -> 'mydataset\\\\train\\\\small\\\\smiling-handsome-young-muslim-africanamerican-260nw-2007429587_jpg.rf.4db44327ad5adaffd00bab09b752f1fb.jpg'",
     "output_type": "error",
     "traceback": [
      "\u001b[1;31m---------------------------------------------------------------------------\u001b[0m",
      "\u001b[1;31mRayActorError\u001b[0m                             Traceback (most recent call last)",
      "Input \u001b[1;32mIn [20]\u001b[0m, in \u001b[0;36m<module>\u001b[1;34m\u001b[0m\n\u001b[0;32m      1\u001b[0m \u001b[38;5;66;03m#tic = time.time()\u001b[39;00m\n\u001b[0;32m      2\u001b[0m myimages \u001b[38;5;241m=\u001b[39m imagesizes\u001b[38;5;241m.\u001b[39mremote()\n\u001b[1;32m----> 3\u001b[0m results \u001b[38;5;241m=\u001b[39m \u001b[43mray\u001b[49m\u001b[38;5;241;43m.\u001b[39;49m\u001b[43mget\u001b[49m\u001b[43m(\u001b[49m\u001b[43mmyimages\u001b[49m\u001b[38;5;241;43m.\u001b[39;49m\u001b[43mget_images\u001b[49m\u001b[38;5;241;43m.\u001b[39;49m\u001b[43mremote\u001b[49m\u001b[43m(\u001b[49m\u001b[43m)\u001b[49m\u001b[43m)\u001b[49m\n",
      "File \u001b[1;32mC:\\ProgramData\\Anaconda3\\lib\\site-packages\\ray\\_private\\client_mode_hook.py:105\u001b[0m, in \u001b[0;36mclient_mode_hook.<locals>.wrapper\u001b[1;34m(*args, **kwargs)\u001b[0m\n\u001b[0;32m    103\u001b[0m     \u001b[38;5;28;01mif\u001b[39;00m func\u001b[38;5;241m.\u001b[39m\u001b[38;5;18m__name__\u001b[39m \u001b[38;5;241m!=\u001b[39m \u001b[38;5;124m\"\u001b[39m\u001b[38;5;124minit\u001b[39m\u001b[38;5;124m\"\u001b[39m \u001b[38;5;129;01mor\u001b[39;00m is_client_mode_enabled_by_default:\n\u001b[0;32m    104\u001b[0m         \u001b[38;5;28;01mreturn\u001b[39;00m \u001b[38;5;28mgetattr\u001b[39m(ray, func\u001b[38;5;241m.\u001b[39m\u001b[38;5;18m__name__\u001b[39m)(\u001b[38;5;241m*\u001b[39margs, \u001b[38;5;241m*\u001b[39m\u001b[38;5;241m*\u001b[39mkwargs)\n\u001b[1;32m--> 105\u001b[0m \u001b[38;5;28;01mreturn\u001b[39;00m func(\u001b[38;5;241m*\u001b[39margs, \u001b[38;5;241m*\u001b[39m\u001b[38;5;241m*\u001b[39mkwargs)\n",
      "File \u001b[1;32mC:\\ProgramData\\Anaconda3\\lib\\site-packages\\ray\\worker.py:1927\u001b[0m, in \u001b[0;36mget\u001b[1;34m(object_refs, timeout)\u001b[0m\n\u001b[0;32m   1925\u001b[0m             \u001b[38;5;28;01mraise\u001b[39;00m value\u001b[38;5;241m.\u001b[39mas_instanceof_cause()\n\u001b[0;32m   1926\u001b[0m         \u001b[38;5;28;01melse\u001b[39;00m:\n\u001b[1;32m-> 1927\u001b[0m             \u001b[38;5;28;01mraise\u001b[39;00m value\n\u001b[0;32m   1929\u001b[0m \u001b[38;5;28;01mif\u001b[39;00m is_individual_id:\n\u001b[0;32m   1930\u001b[0m     values \u001b[38;5;241m=\u001b[39m values[\u001b[38;5;241m0\u001b[39m]\n",
      "\u001b[1;31mRayActorError\u001b[0m: The actor died because of an error raised in its creation task, \u001b[36mray::imagesizes.__init__()\u001b[39m (pid=76620, ip=127.0.0.1, repr=<__main__.imagesizes object at 0x0000017D6542EBB0>)\n  File \"python\\ray\\_raylet.pyx\", line 665, in ray._raylet.execute_task\n  File \"python\\ray\\_raylet.pyx\", line 669, in ray._raylet.execute_task\n  File \"python\\ray\\_raylet.pyx\", line 616, in ray._raylet.execute_task.function_executor\n  File \"C:\\ProgramData\\Anaconda3\\lib\\site-packages\\ray\\_private\\function_manager.py\", line 704, in actor_method_executor\n    return method(__ray_actor, *args, **kwargs)\n  File \"C:\\ProgramData\\Anaconda3\\lib\\site-packages\\ray\\util\\tracing\\tracing_helper.py\", line 462, in _resume_span\n    return method(self, *_args, **_kwargs)\n  File \"C:\\Users\\ali.khankan\\AppData\\Local\\Temp\\ipykernel_75592\\4039197177.py\", line 7, in __init__\n  File \"C:\\ProgramData\\Anaconda3\\lib\\site-packages\\ray\\util\\tracing\\tracing_helper.py\", line 462, in _resume_span\n    return method(self, *_args, **_kwargs)\n  File \"C:\\Users\\ali.khankan\\AppData\\Local\\Temp\\ipykernel_75592\\4039197177.py\", line 15, in get_images_sizes\n  File \"C:\\ProgramData\\Anaconda3\\lib\\pathlib.py\", line 1382, in rename\n    self._accessor.rename(self, target)\nFileNotFoundError: [WinError 3] The system cannot find the path specified: 'mydataset\\\\train\\\\smiling-handsome-young-muslim-africanamerican-260nw-2007429587_jpg.rf.4db44327ad5adaffd00bab09b752f1fb.jpg' -> 'mydataset\\\\train\\\\small\\\\smiling-handsome-young-muslim-africanamerican-260nw-2007429587_jpg.rf.4db44327ad5adaffd00bab09b752f1fb.jpg'"
     ]
    }
   ],
   "source": [
    "#tic = time.time()\n",
    "myimages = imagesizes.remote()\n",
    "results = ray.get(myimages.get_images.remote())"
   ]
  },
  {
   "cell_type": "code",
   "execution_count": 10,
   "id": "df8fdf9e",
   "metadata": {},
   "outputs": [],
   "source": [
    "df = pd.DataFrame(data={'filename': results,'height': results['','width'})"
   ]
  },
  {
   "cell_type": "code",
   "execution_count": 5,
   "id": "e84bd587",
   "metadata": {},
   "outputs": [
    {
     "ename": "NameError",
     "evalue": "name 'results' is not defined",
     "output_type": "error",
     "traceback": [
      "\u001b[1;31m---------------------------------------------------------------------------\u001b[0m",
      "\u001b[1;31mNameError\u001b[0m                                 Traceback (most recent call last)",
      "Input \u001b[1;32mIn [5]\u001b[0m, in \u001b[0;36m<module>\u001b[1;34m\u001b[0m\n\u001b[1;32m----> 1\u001b[0m new_df \u001b[38;5;241m=\u001b[39m pd\u001b[38;5;241m.\u001b[39mDataFrame\u001b[38;5;241m.\u001b[39mfrom_dict(\u001b[43mresults\u001b[49m, orient\u001b[38;5;241m=\u001b[39m\u001b[38;5;124m'\u001b[39m\u001b[38;5;124mindex\u001b[39m\u001b[38;5;124m'\u001b[39m)\n",
      "\u001b[1;31mNameError\u001b[0m: name 'results' is not defined"
     ]
    }
   ],
   "source": [
    "new_df = pd.DataFrame.from_dict(results, orient='index')"
   ]
  },
  {
   "cell_type": "code",
   "execution_count": 79,
   "id": "747d6376",
   "metadata": {},
   "outputs": [
    {
     "data": {
      "text/html": [
       "<div>\n",
       "<style scoped>\n",
       "    .dataframe tbody tr th:only-of-type {\n",
       "        vertical-align: middle;\n",
       "    }\n",
       "\n",
       "    .dataframe tbody tr th {\n",
       "        vertical-align: top;\n",
       "    }\n",
       "\n",
       "    .dataframe thead th {\n",
       "        text-align: right;\n",
       "    }\n",
       "</style>\n",
       "<table border=\"1\" class=\"dataframe\">\n",
       "  <thead>\n",
       "    <tr style=\"text-align: right;\">\n",
       "      <th></th>\n",
       "      <th>height</th>\n",
       "      <th>width</th>\n",
       "    </tr>\n",
       "  </thead>\n",
       "  <tbody>\n",
       "    <tr>\n",
       "      <th>images--3-_jpg.rf.2b54fdcd5582c075d70bba59198b9ab2.jpg</th>\n",
       "      <td>146</td>\n",
       "      <td>345</td>\n",
       "    </tr>\n",
       "    <tr>\n",
       "      <th>images--1-_jpg.rf.6e138a9ba80a2777ad2f6c108da4cd49.jpg</th>\n",
       "      <td>148</td>\n",
       "      <td>340</td>\n",
       "    </tr>\n",
       "    <tr>\n",
       "      <th>128_jpg.rf.56a11c969f98730105f5e8156e6b069f.jpg</th>\n",
       "      <td>151</td>\n",
       "      <td>334</td>\n",
       "    </tr>\n",
       "    <tr>\n",
       "      <th>download--10-_jpg.rf.98ac456a14ac1077d1b0490c8b710841.jpg</th>\n",
       "      <td>152</td>\n",
       "      <td>331</td>\n",
       "    </tr>\n",
       "    <tr>\n",
       "      <th>216_jpg.rf.43629f1d8050b62e466e39de9c362874.jpg</th>\n",
       "      <td>159</td>\n",
       "      <td>318</td>\n",
       "    </tr>\n",
       "    <tr>\n",
       "      <th>...</th>\n",
       "      <td>...</td>\n",
       "      <td>...</td>\n",
       "    </tr>\n",
       "    <tr>\n",
       "      <th>image_from_china-10-_jpg.rf.6f700ac34016cd86c533e3e566e97f7e.jpg</th>\n",
       "      <td>480</td>\n",
       "      <td>800</td>\n",
       "    </tr>\n",
       "    <tr>\n",
       "      <th>image_from_china-4289-_jpg.rf.4ed44b38d244c452a0ce1bd3fb523a84.jpg</th>\n",
       "      <td>480</td>\n",
       "      <td>800</td>\n",
       "    </tr>\n",
       "    <tr>\n",
       "      <th>image_from_china-4461-_jpg.rf.f915cd1a791d9e385999ec1fba2d1da6.jpg</th>\n",
       "      <td>480</td>\n",
       "      <td>800</td>\n",
       "    </tr>\n",
       "    <tr>\n",
       "      <th>image-2022-02-16t095656-964_jpg.rf.ef9a23884fdc36972aaa5b8b52834e5d.jpg</th>\n",
       "      <td>488</td>\n",
       "      <td>650</td>\n",
       "    </tr>\n",
       "    <tr>\n",
       "      <th>91_jpg.rf.6601732e1bad576613df15147040b84c.jpg</th>\n",
       "      <td>490</td>\n",
       "      <td>612</td>\n",
       "    </tr>\n",
       "  </tbody>\n",
       "</table>\n",
       "<p>602 rows × 2 columns</p>\n",
       "</div>"
      ],
      "text/plain": [
       "                                                    height  width\n",
       "images--3-_jpg.rf.2b54fdcd5582c075d70bba59198b9...     146    345\n",
       "images--1-_jpg.rf.6e138a9ba80a2777ad2f6c108da4c...     148    340\n",
       "128_jpg.rf.56a11c969f98730105f5e8156e6b069f.jpg        151    334\n",
       "download--10-_jpg.rf.98ac456a14ac1077d1b0490c8b...     152    331\n",
       "216_jpg.rf.43629f1d8050b62e466e39de9c362874.jpg        159    318\n",
       "...                                                    ...    ...\n",
       "image_from_china-10-_jpg.rf.6f700ac34016cd86c53...     480    800\n",
       "image_from_china-4289-_jpg.rf.4ed44b38d244c452a...     480    800\n",
       "image_from_china-4461-_jpg.rf.f915cd1a791d9e385...     480    800\n",
       "image-2022-02-16t095656-964_jpg.rf.ef9a23884fdc...     488    650\n",
       "91_jpg.rf.6601732e1bad576613df15147040b84c.jpg         490    612\n",
       "\n",
       "[602 rows x 2 columns]"
      ]
     },
     "execution_count": 79,
     "metadata": {},
     "output_type": "execute_result"
    }
   ],
   "source": [
    "new_df[(new_df['height'] >1) & (new_df['height'] < 500)].sort_values(by=['height', 'width'])"
   ]
  },
  {
   "cell_type": "code",
   "execution_count": null,
   "id": "8de64e6d",
   "metadata": {},
   "outputs": [],
   "source": [
    "ax1 = df.plot(kind='scatter', x='a', y='b', color='r')    \n",
    "ax2 = df.plot(kind='scatter', x='c', y='d', color='g', ax=ax1)  "
   ]
  },
  {
   "cell_type": "code",
   "execution_count": 26,
   "id": "786d691e",
   "metadata": {},
   "outputs": [
    {
     "data": {
      "text/plain": [
       "<AxesSubplot:xlabel='height', ylabel='width'>"
      ]
     },
     "execution_count": 26,
     "metadata": {},
     "output_type": "execute_result"
    },
    {
     "data": {
      "image/png": "[encoded data removed]",
      "text/plain": [
       "<Figure size 432x288 with 1 Axes>"
      ]
     },
     "metadata": {
      "needs_background": "light"
     },
     "output_type": "display_data"
    }
   ],
   "source": [
    "new_df.plot(kind='scatter', x='height', y='width')"
   ]
  },
  {
   "cell_type": "code",
   "execution_count": null,
   "id": "b1105f60",
   "metadata": {},
   "outputs": [],
   "source": []
  }
 ],
 "metadata": {
  "kernelspec": {
   "display_name": "Python [conda env:root] *",
   "language": "python",
   "name": "conda-root-py"
  },
  "language_info": {
   "codemirror_mode": {
    "name": "ipython",
    "version": 3
   },
   "file_extension": ".py",
   "mimetype": "text/x-python",
   "name": "python",
   "nbconvert_exporter": "python",
   "pygments_lexer": "ipython3",
   "version": "3.9.7"
  }
 },
 "nbformat": 4,
 "nbformat_minor": 5
}
